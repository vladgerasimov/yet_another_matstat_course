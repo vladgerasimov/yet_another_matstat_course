{
 "cells": [
  {
   "cell_type": "markdown",
   "id": "a04146ce",
   "metadata": {},
   "source": [
    "<center>\n",
    "<img src=\"https://camo.githubusercontent.com/ad20aaaa48264581c46aa126919dbb72060ebd98cffe015523549b4974843ae5/68747470733a2f2f7261772e67697468756275736572636f6e74656e742e636f6d2f46556c79616e6b696e2f725f70726f626162696c6974792f6d61737465722f656e645f73656d696e6172732f73656d5f362f73747564656e745f746561636865725f646973742e706e67\" height=\"200\"> \n",
    "\n",
    "# Прикладаная статистика: домашнее задание 2\n",
    "</center>\n",
    "\n",
    "> скрррааа па па ка ка ка скидики па па энд э пу пу дррр бум скьа ду ду ку ку тун тун пум пум\n",
    "\n",
    "$\\qquad$ [БутcРэп](https://www.youtube.com/watch?v=eE4qxB2E8d4)\n"
   ]
  },
  {
   "cell_type": "markdown",
   "id": "09d1ee1c",
   "metadata": {},
   "source": [
    "**ФИО:**"
   ]
  },
  {
   "cell_type": "markdown",
   "id": "29c06fc3",
   "metadata": {},
   "source": [
    "## Общая информация\n",
    "\n",
    "\n",
    "__Дата выдачи:__ 23.04.2022\n",
    "\n",
    "__Дедлайн:__ 23:59MSK 14.05.2022"
   ]
  },
  {
   "cell_type": "markdown",
   "id": "6d4842a4",
   "metadata": {},
   "source": [
    "## Формат сдачи\n",
    "\n",
    "Сам ноутбук называйте в формате hw-01-USERNAME.ipynb, где USERNAME — ваши фамилия и имя. Файл надо будет, как обычно, сдать в anytask."
   ]
  },
  {
   "cell_type": "markdown",
   "id": "8d41d789",
   "metadata": {},
   "source": [
    "## Оформление"
   ]
  },
  {
   "cell_type": "markdown",
   "id": "196fb8dc",
   "metadata": {},
   "source": [
    "В этом домашнем задании мы будем проверять гипотезы. Во всех задачах подробно обосновывайте выбор критерия для проверки гипотезы и делайте выводы."
   ]
  },
  {
   "cell_type": "code",
   "execution_count": 1,
   "id": "1f3a8035",
   "metadata": {},
   "outputs": [],
   "source": [
    "import numpy as np\n",
    "import pandas as pd\n",
    "\n",
    "from scipy import stats as sts\n",
    "\n",
    "import seaborn as sns\n",
    "import matplotlib.pyplot as plt"
   ]
  },
  {
   "cell_type": "markdown",
   "id": "44fd3d55",
   "metadata": {},
   "source": [
    "## [10 баллов] Задание 1 (рейтинги президентов) \n",
    "\n",
    "В таблице `presidents.csv` представлены рейтинги различных президентов США (интересно, почему не российских). Социальные опросы проводились раз в квартал. Опрашивалась случайная выборка граждан. У каждого спрашивалось одобряет ли он деятельность президента.\n",
    "\n",
    "Ричард Никсон был президентом США с 20 января 1969 года по 9 августа 1974 года. 17 июня 1972 года произошёл Уотергейтский скандал. Давайте проанализируем, что при этом произошло с его рейтингом."
   ]
  },
  {
   "cell_type": "code",
   "execution_count": 2,
   "id": "79d7f358",
   "metadata": {},
   "outputs": [
    {
     "data": {
      "text/html": [
       "<div>\n",
       "<style scoped>\n",
       "    .dataframe tbody tr th:only-of-type {\n",
       "        vertical-align: middle;\n",
       "    }\n",
       "\n",
       "    .dataframe tbody tr th {\n",
       "        vertical-align: top;\n",
       "    }\n",
       "\n",
       "    .dataframe thead th {\n",
       "        text-align: right;\n",
       "    }\n",
       "</style>\n",
       "<table border=\"1\" class=\"dataframe\">\n",
       "  <thead>\n",
       "    <tr style=\"text-align: right;\">\n",
       "      <th></th>\n",
       "      <th>year</th>\n",
       "      <th>Qtr1</th>\n",
       "      <th>Qtr2</th>\n",
       "      <th>Qtr3</th>\n",
       "      <th>Qtr4</th>\n",
       "    </tr>\n",
       "  </thead>\n",
       "  <tbody>\n",
       "    <tr>\n",
       "      <th>0</th>\n",
       "      <td>1945</td>\n",
       "      <td>NaN</td>\n",
       "      <td>87</td>\n",
       "      <td>82.0</td>\n",
       "      <td>75.0</td>\n",
       "    </tr>\n",
       "    <tr>\n",
       "      <th>1</th>\n",
       "      <td>1946</td>\n",
       "      <td>63.0</td>\n",
       "      <td>50</td>\n",
       "      <td>43.0</td>\n",
       "      <td>32.0</td>\n",
       "    </tr>\n",
       "    <tr>\n",
       "      <th>2</th>\n",
       "      <td>1947</td>\n",
       "      <td>35.0</td>\n",
       "      <td>60</td>\n",
       "      <td>54.0</td>\n",
       "      <td>55.0</td>\n",
       "    </tr>\n",
       "    <tr>\n",
       "      <th>3</th>\n",
       "      <td>1948</td>\n",
       "      <td>36.0</td>\n",
       "      <td>39</td>\n",
       "      <td>NaN</td>\n",
       "      <td>NaN</td>\n",
       "    </tr>\n",
       "    <tr>\n",
       "      <th>4</th>\n",
       "      <td>1949</td>\n",
       "      <td>69.0</td>\n",
       "      <td>57</td>\n",
       "      <td>57.0</td>\n",
       "      <td>51.0</td>\n",
       "    </tr>\n",
       "  </tbody>\n",
       "</table>\n",
       "</div>"
      ],
      "text/plain": [
       "   year  Qtr1  Qtr2  Qtr3  Qtr4\n",
       "0  1945   NaN    87  82.0  75.0\n",
       "1  1946  63.0    50  43.0  32.0\n",
       "2  1947  35.0    60  54.0  55.0\n",
       "3  1948  36.0    39   NaN   NaN\n",
       "4  1949  69.0    57  57.0  51.0"
      ]
     },
     "execution_count": 2,
     "metadata": {},
     "output_type": "execute_result"
    }
   ],
   "source": [
    "df = pd.read_csv('data/presidents.csv')\n",
    "df.head()"
   ]
  },
  {
   "cell_type": "markdown",
   "id": "0009fe46",
   "metadata": {},
   "source": [
    "Чтобы привести таблицу к удобному виду используйте функцию `pd.melt`. Вытащите из таблички рейтинг Никсона с 1 квартала 1969 года по 2 квартал 1972 года (включая его). Запишите эти данные в переменную `x`. Рейтинг с 3 квартала 1972 года по 2 квартал 1974 года поместите в переменную `y`. Пропуски в данных удалите из выборки."
   ]
  },
  {
   "cell_type": "code",
   "execution_count": 45,
   "id": "a1bd4b8c",
   "metadata": {},
   "outputs": [],
   "source": [
    "melted = pd.melt(\n",
    "    df, \n",
    "    id_vars=['year'], \n",
    "    value_vars=df.columns, \n",
    "    value_name='rating', \n",
    "    var_name='quarter'\n",
    ").dropna()\n",
    "\n",
    "x = melted.loc[(\n",
    "    (melted['year'].between(1969, 1971)) | \n",
    "    ((melted['year']==1972)&(melted['quarter'] <= 'Qtr2'))\n",
    "), 'rating'].values\n",
    "\n",
    "y = melted.loc[(\n",
    "    (melted['year'] == 1973) | \n",
    "    ((melted['year'] == 1972)&(melted['quarter'] > 'Qtr2')) |\n",
    "    ((melted['year']==1974)&(melted['quarter'] <= 'Qtr2'))\n",
    "), 'rating'].values"
   ]
  },
  {
   "cell_type": "markdown",
   "id": "e923c449",
   "metadata": {},
   "source": [
    "Правда ли, что после скандала средний рейтинг Никсона рухнул? Предполагайте, что рейтинг распределён нормально, а также, что дисперсия рейтинга не изменилась из-за скандала. Наблюдаемое значение статистики запишите в переменную `obs`, в переменную `pval` запишите $p$-значение."
   ]
  },
  {
   "cell_type": "code",
   "execution_count": 47,
   "id": "cbea959b",
   "metadata": {},
   "outputs": [],
   "source": [
    "x_mean = x.mean()\n",
    "y_mean = y.mean()"
   ]
  },
  {
   "cell_type": "code",
   "execution_count": 48,
   "id": "551af9fa",
   "metadata": {},
   "outputs": [
    {
     "data": {
      "text/plain": [
       "(56.357142857142854, 38.666666666666664)"
      ]
     },
     "execution_count": 48,
     "metadata": {},
     "output_type": "execute_result"
    }
   ],
   "source": [
    "x_mean, y_mean"
   ]
  },
  {
   "cell_type": "code",
   "execution_count": 2,
   "id": "e3ca8357",
   "metadata": {},
   "outputs": [],
   "source": [
    "from statsmodels.stats.weightstats import ttest_ind, ztest"
   ]
  },
  {
   "cell_type": "code",
   "execution_count": 60,
   "id": "7186cc05",
   "metadata": {},
   "outputs": [],
   "source": [
    "obs, pval, ddof = ttest_ind(\n",
    "    x, \n",
    "    y, \n",
    "    alternative='larger', \n",
    "    usevar='pooled'\n",
    ")"
   ]
  },
  {
   "cell_type": "code",
   "execution_count": 61,
   "id": "a71588cc",
   "metadata": {},
   "outputs": [
    {
     "data": {
      "text/plain": [
       "0.0011087344846424454"
      ]
     },
     "execution_count": 61,
     "metadata": {},
     "output_type": "execute_result"
    }
   ],
   "source": [
    "pval"
   ]
  },
  {
   "cell_type": "code",
   "execution_count": 62,
   "id": "3e32c134",
   "metadata": {},
   "outputs": [],
   "source": [
    "# небольшая самопроверка\n",
    "assert np.abs(obs - 3.5640741313229793) < 1e-5"
   ]
  },
  {
   "cell_type": "markdown",
   "id": "7703697a",
   "metadata": {},
   "source": [
    "**Почему вы выбрали именно этот критерий для проверки гипотезы? Какие выводы вы сделали?**\n",
    "\n",
    "**Ответ:** \n",
    "\n",
    "\n",
    "Поскольку мы предполагаем, что случайная величина распределена нормально, и дисперсии выборок равны, то можем воспользоваться t критерием, основанном на распределениии Стьюдента с числом степеней свободы (m + n - 2). \n",
    "Как обычно, пусть $\\lambda = 0.05$\n",
    "\n",
    "$H_0: \\overline{X} = \\overline{Y};\\newline H_1: \\overline{X} > \\overline{Y}$\n",
    "\n",
    "Получаем p-value меньше, чем $\\lambda$ и отвергаем нулевую гипотезу о том, что рейтинг не упал"
   ]
  },
  {
   "cell_type": "markdown",
   "id": "5c202f53",
   "metadata": {},
   "source": [
    "Снова президентом Никсон станет в $3000$ году. \n",
    "\n",
    "![](https://vignette.wikia.nocookie.net/futurama/images/2/2f/Richard_M._Nixon%27s_head.jpg/revision/latest/scale-to-width-down/250?cb=20131123190522&path-prefix=ru)"
   ]
  },
  {
   "cell_type": "markdown",
   "id": "3d897524",
   "metadata": {},
   "source": [
    "## [10 баллов] Задание 2 (доктор сон)\n",
    "\n",
    "Проводится эксперимент о пользе нового снотворного. Для его проведения используется группа из $10$ студентов. В первый день каждый из них ложится спать. На утро измеряется, сколько он проспал. Из результата вычитают $8$ (нормальное число часов сна). На второй день каждому дают таблетку. Утром снова измеряют, сколько человек проспал, и вычитают $8$. Результаты эксперимента записаны в табличку `sleep.csv`."
   ]
  },
  {
   "cell_type": "code",
   "execution_count": 2,
   "id": "8302a837",
   "metadata": {},
   "outputs": [
    {
     "data": {
      "text/html": [
       "<div>\n",
       "<style scoped>\n",
       "    .dataframe tbody tr th:only-of-type {\n",
       "        vertical-align: middle;\n",
       "    }\n",
       "\n",
       "    .dataframe tbody tr th {\n",
       "        vertical-align: top;\n",
       "    }\n",
       "\n",
       "    .dataframe thead th {\n",
       "        text-align: right;\n",
       "    }\n",
       "</style>\n",
       "<table border=\"1\" class=\"dataframe\">\n",
       "  <thead>\n",
       "    <tr style=\"text-align: right;\">\n",
       "      <th></th>\n",
       "      <th>extra</th>\n",
       "      <th>group</th>\n",
       "      <th>ID</th>\n",
       "    </tr>\n",
       "  </thead>\n",
       "  <tbody>\n",
       "    <tr>\n",
       "      <th>0</th>\n",
       "      <td>0.7</td>\n",
       "      <td>1</td>\n",
       "      <td>1</td>\n",
       "    </tr>\n",
       "    <tr>\n",
       "      <th>1</th>\n",
       "      <td>-1.6</td>\n",
       "      <td>1</td>\n",
       "      <td>2</td>\n",
       "    </tr>\n",
       "    <tr>\n",
       "      <th>2</th>\n",
       "      <td>-0.2</td>\n",
       "      <td>1</td>\n",
       "      <td>3</td>\n",
       "    </tr>\n",
       "    <tr>\n",
       "      <th>3</th>\n",
       "      <td>-1.2</td>\n",
       "      <td>1</td>\n",
       "      <td>4</td>\n",
       "    </tr>\n",
       "    <tr>\n",
       "      <th>4</th>\n",
       "      <td>-0.1</td>\n",
       "      <td>1</td>\n",
       "      <td>5</td>\n",
       "    </tr>\n",
       "  </tbody>\n",
       "</table>\n",
       "</div>"
      ],
      "text/plain": [
       "   extra  group  ID\n",
       "0    0.7      1   1\n",
       "1   -1.6      1   2\n",
       "2   -0.2      1   3\n",
       "3   -1.2      1   4\n",
       "4   -0.1      1   5"
      ]
     },
     "execution_count": 2,
     "metadata": {},
     "output_type": "execute_result"
    }
   ],
   "source": [
    "df = pd.read_csv('data/sleep.csv')\n",
    "df.head()"
   ]
  },
  {
   "cell_type": "markdown",
   "id": "b0809c47",
   "metadata": {},
   "source": [
    "Правда ли, что сон студентов до приёма снотворного не отличается от нормы (отклонение от 8 часов равно нулю). Проверьте эту гипотезу на $5\\%$ уровне значимости, в переменную `pval1` запишите p-значение. "
   ]
  },
  {
   "cell_type": "code",
   "execution_count": 19,
   "id": "33354306",
   "metadata": {},
   "outputs": [],
   "source": [
    "x1 = df.loc[df['group'] == 1].sort_values('ID')['extra'].dropna().values"
   ]
  },
  {
   "cell_type": "markdown",
   "id": "bf9923f4",
   "metadata": {},
   "source": [
    "#### Проверим гипотезу о нормальности распределения"
   ]
  },
  {
   "cell_type": "code",
   "execution_count": 20,
   "id": "4005cb1d",
   "metadata": {},
   "outputs": [
    {
     "data": {
      "text/plain": [
       "KstestResult(statistic=0.18885164347315186, pvalue=0.8679667029388624)"
      ]
     },
     "execution_count": 20,
     "metadata": {},
     "output_type": "execute_result"
    }
   ],
   "source": [
    "sts.kstest(x1, 'norm', args=(x1.mean(), x1.std(ddof=1)))"
   ]
  },
  {
   "cell_type": "markdown",
   "id": "f85440bd",
   "metadata": {},
   "source": [
    "#### Гипотезу о нормальности отвергнуть не можем, значит можем провести t-test"
   ]
  },
  {
   "cell_type": "code",
   "execution_count": 21,
   "id": "7f232e37",
   "metadata": {},
   "outputs": [
    {
     "data": {
      "text/plain": [
       "0.2175977800684489"
      ]
     },
     "execution_count": 21,
     "metadata": {},
     "output_type": "execute_result"
    }
   ],
   "source": [
    "tobs1, pval1 = sts.ttest_1samp(x1, 0)\n",
    "pval1"
   ]
  },
  {
   "cell_type": "markdown",
   "id": "2213b596",
   "metadata": {},
   "source": [
    "#### Не можем отвергнуть гипотезу о том, что студенты спят нормально до приема снотворного"
   ]
  },
  {
   "cell_type": "markdown",
   "id": "978cd0b5",
   "metadata": {},
   "source": [
    "Правда ли, что благодаря таблеткам студенты стали спать больше (односторонняя альтернатива)? Запишите в переменную `pval2` соотвествующее p-значение. "
   ]
  },
  {
   "cell_type": "code",
   "execution_count": 26,
   "id": "b8c77a4a",
   "metadata": {},
   "outputs": [],
   "source": [
    "x2 = df.loc[df['group'] == 2].sort_values('ID')['extra'].dropna().values\n",
    "x_diff = x2 - x1"
   ]
  },
  {
   "cell_type": "code",
   "execution_count": 39,
   "id": "f7c5171e",
   "metadata": {},
   "outputs": [],
   "source": [
    "diff_mean = x_diff.mean()\n",
    "diff_std = np.sqrt(np.sum((x_diff - diff_mean) ** 2) / (x_diff.size - 1))"
   ]
  },
  {
   "cell_type": "code",
   "execution_count": 51,
   "id": "557b84ad",
   "metadata": {},
   "outputs": [
    {
     "data": {
      "text/plain": [
       "4.062127683382037"
      ]
     },
     "execution_count": 51,
     "metadata": {},
     "output_type": "execute_result"
    }
   ],
   "source": [
    "tobs2 = diff_mean / (diff_std / np.sqrt(x_diff.size))\n",
    "tobs2"
   ]
  },
  {
   "cell_type": "code",
   "execution_count": 50,
   "id": "60843384",
   "metadata": {},
   "outputs": [
    {
     "data": {
      "text/plain": [
       "0.0014164450986920984"
      ]
     },
     "execution_count": 50,
     "metadata": {},
     "output_type": "execute_result"
    }
   ],
   "source": [
    "pval2 = 1 - sts.t(df=x_diff.size - 1).cdf(tobs2)\n",
    "pval2"
   ]
  },
  {
   "cell_type": "code",
   "execution_count": 60,
   "id": "f502ee03",
   "metadata": {},
   "outputs": [],
   "source": [
    "# самопроверка\n",
    "assert np.abs(tobs1 - 1.325710) < 1e-5\n",
    "assert np.abs(tobs2 - 4.062127) < 1e-5"
   ]
  },
  {
   "cell_type": "markdown",
   "id": "bd0a338f",
   "metadata": {},
   "source": [
    "**Почему вы выбрали именно этот критерий для проверки гипотезы? Какие выводы вы сделали?**\n",
    "\n",
    "**Ответ:** Поскольку наблюдений совсем мало, а значит асимтотический критерий не применим, то можно сделать предположение о нормальности данных для того, чтобы воспользоваться точной оценкой. Данные не противоречат гипотезе о нормальности, поэтому пользуемся t тестом для зависимых величин.$\\newline$\n",
    "\n",
    "$H_0: D = X_2 - X_1 = 0\\newline\n",
    "H_1: D > 0$\n",
    "$p_{val} < \\lambda$, значит отвергаем нулевую гипотезу, после приема снотворного студенты стали спать больше"
   ]
  },
  {
   "cell_type": "markdown",
   "id": "7e41582c",
   "metadata": {},
   "source": [
    "## [30 баллов] Задание 3 (мудрость)\n",
    "\n",
    "> Помните, что для человека звук его имени является самым сладким и самым важным звуком человеческой речи. (Дейл Карнеги)\n",
    "\n",
    "Доверяй, но проверяй. Решим задачку по психологии! Все цитаты в пабликах вконтакте делятся на два вида: мудрые и недостаточно мудрые. Если цитата мудрая, то её можно лайкнуть. Поговаривают, что если в цитате есть личные местоимения, то пользователь автоматически сопоставляет себя автору этой цитаты и вероятность того, что она будет лайкнута, повышается. Например, цитату \n",
    "\n",
    "> Можно простить человеку все, кроме отсутствия. (Экзюпери) \n",
    "\n",
    "мне не очень хотелось бы лайкать. А вот цитата \n",
    "\n",
    "> Мне наплевать, что вы обо мне думаете. Я о вас вообще не думаю. (Булгаков) \n",
    "\n",
    "совершенно другое дело. \n",
    "\n",
    "В табличке `df_vk_wise` лежат данные о мудрых цитатах из [мудрого паблика.](https://vk.com/ooioioioioioo) В колонке `I` находится переменная, которая принимает значение `True`, когда в тексте цитаты было личное местоимение \"Я\".\n",
    "\n",
    "Срежем первые $50$ постов, так как под ними количество репостов и лайков ещё окончательно не выставлено, и будем работать с остатками. "
   ]
  },
  {
   "cell_type": "code",
   "execution_count": 3,
   "id": "a6a8e9b4",
   "metadata": {},
   "outputs": [
    {
     "data": {
      "text/html": [
       "<div>\n",
       "<style scoped>\n",
       "    .dataframe tbody tr th:only-of-type {\n",
       "        vertical-align: middle;\n",
       "    }\n",
       "\n",
       "    .dataframe tbody tr th {\n",
       "        vertical-align: top;\n",
       "    }\n",
       "\n",
       "    .dataframe thead th {\n",
       "        text-align: right;\n",
       "    }\n",
       "</style>\n",
       "<table border=\"1\" class=\"dataframe\">\n",
       "  <thead>\n",
       "    <tr style=\"text-align: right;\">\n",
       "      <th></th>\n",
       "      <th>likes</th>\n",
       "      <th>reposts</th>\n",
       "      <th>text</th>\n",
       "      <th>I</th>\n",
       "    </tr>\n",
       "  </thead>\n",
       "  <tbody>\n",
       "    <tr>\n",
       "      <th>50</th>\n",
       "      <td>549</td>\n",
       "      <td>25</td>\n",
       "      <td>Я, говорит, люблю человечество, но дивлюсь на ...</td>\n",
       "      <td>True</td>\n",
       "    </tr>\n",
       "    <tr>\n",
       "      <th>51</th>\n",
       "      <td>607</td>\n",
       "      <td>22</td>\n",
       "      <td>Нельзя любить то, что я люблю, да ещё так, как...</td>\n",
       "      <td>True</td>\n",
       "    </tr>\n",
       "    <tr>\n",
       "      <th>52</th>\n",
       "      <td>914</td>\n",
       "      <td>37</td>\n",
       "      <td>Если испытываешь по-настоящему глубокое чувств...</td>\n",
       "      <td>False</td>\n",
       "    </tr>\n",
       "    <tr>\n",
       "      <th>53</th>\n",
       "      <td>989</td>\n",
       "      <td>34</td>\n",
       "      <td>— Я тебя люблю, — сказал я. \\n— Это пройдет, —...</td>\n",
       "      <td>True</td>\n",
       "    </tr>\n",
       "    <tr>\n",
       "      <th>54</th>\n",
       "      <td>1229</td>\n",
       "      <td>32</td>\n",
       "      <td>Он очаровательно рассказывает мне о том, как о...</td>\n",
       "      <td>False</td>\n",
       "    </tr>\n",
       "  </tbody>\n",
       "</table>\n",
       "</div>"
      ],
      "text/plain": [
       "    likes  reposts                                               text      I\n",
       "50    549       25  Я, говорит, люблю человечество, но дивлюсь на ...   True\n",
       "51    607       22  Нельзя любить то, что я люблю, да ещё так, как...   True\n",
       "52    914       37  Если испытываешь по-настоящему глубокое чувств...  False\n",
       "53    989       34  — Я тебя люблю, — сказал я. \\n— Это пройдет, —...   True\n",
       "54   1229       32  Он очаровательно рассказывает мне о том, как о...  False"
      ]
     },
     "execution_count": 3,
     "metadata": {},
     "output_type": "execute_result"
    }
   ],
   "source": [
    "df = pd.read_csv('data/df_vk_wise.csv')[50:]\n",
    "df.head()"
   ]
  },
  {
   "cell_type": "markdown",
   "id": "2142bfeb",
   "metadata": {},
   "source": [
    "Постройте гистограмму для числа лайков постов, содержащих личные местоимения и не содержащих. Как думаете, есть ли с распределением лайков какие-то проблемы?"
   ]
  },
  {
   "cell_type": "code",
   "execution_count": 4,
   "id": "f503628e",
   "metadata": {},
   "outputs": [
    {
     "data": {
      "text/plain": [
       "<AxesSubplot:>"
      ]
     },
     "execution_count": 4,
     "metadata": {},
     "output_type": "execute_result"
    },
    {
     "data": {
      "image/png": "[encoded data removed]",
      "text/plain": [
       "<Figure size 432x288 with 1 Axes>"
      ]
     },
     "metadata": {
      "needs_background": "light"
     },
     "output_type": "display_data"
    }
   ],
   "source": [
    "df.loc[df['I'] == True, 'likes'].hist()"
   ]
  },
  {
   "cell_type": "code",
   "execution_count": 5,
   "id": "d63adb64",
   "metadata": {},
   "outputs": [
    {
     "data": {
      "text/plain": [
       "<AxesSubplot:>"
      ]
     },
     "execution_count": 5,
     "metadata": {},
     "output_type": "execute_result"
    },
    {
     "data": {
      "image/png": "[encoded data removed]",
      "text/plain": [
       "<Figure size 432x288 with 1 Axes>"
      ]
     },
     "metadata": {
      "needs_background": "light"
     },
     "output_type": "display_data"
    }
   ],
   "source": [
    "df.loc[df['I'] == False, 'likes'].hist()"
   ]
  },
  {
   "cell_type": "markdown",
   "id": "bea3b3d3",
   "metadata": {},
   "source": [
    "Да, проблемы есть. Это выбросы. Хвосты на гистограммах оказываются очень длинными. Найдите медианы и средние для числа лайков. Сравните их между собой. "
   ]
  },
  {
   "cell_type": "code",
   "execution_count": 6,
   "id": "579e50fb",
   "metadata": {},
   "outputs": [
    {
     "name": "stdout",
     "output_type": "stream",
     "text": [
      "median = 2524.0\n",
      "mean = 2810.7557024793387\n"
     ]
    }
   ],
   "source": [
    "print(f\"median = {df['likes'].median()}\")\n",
    "print(f\"mean = {df['likes'].mean()}\")"
   ]
  },
  {
   "cell_type": "markdown",
   "id": "8bf35d5f",
   "metadata": {},
   "source": [
    "Проверьте гипотезу о равенстве среднего числа лайков. Используйте для этого $z$-тест, основанный на ЦПТ. Дисперсию расчитывайте по выборке, используя несмещённую оценку `(ddof=1)`. Запишите наблюдаемое значение статистики в переменную `z_obs`. "
   ]
  },
  {
   "cell_type": "code",
   "execution_count": 9,
   "id": "5c186ecb",
   "metadata": {},
   "outputs": [],
   "source": [
    "x = df.loc[df['I'] == True, 'likes'].dropna().values\n",
    "y = df.loc[df['I'] == False, 'likes'].dropna().values\n",
    "\n",
    "alpha = 0.05\n",
    "z_obs = (x.mean() - y.mean()) / np.sqrt((x.var(ddof=1) / x.size) + (y.var(ddof=1) / y.size))"
   ]
  },
  {
   "cell_type": "markdown",
   "id": "d45f0c19",
   "metadata": {},
   "source": [
    "Найдите критическое значение статистики. Сравните его с наблюдаемым. Рассчитайте p-value для ситуации с двусторонней альтернативой. Сделайте вывод о выдвинутой гипотезе. Критическое значение статистики запишите в переменную `z_crit`, а p-значение в переменную `pval`. "
   ]
  },
  {
   "cell_type": "code",
   "execution_count": 10,
   "id": "053b19bc",
   "metadata": {},
   "outputs": [
    {
     "data": {
      "text/plain": [
       "(-1.9599639845400545, 1.959963984540054)"
      ]
     },
     "execution_count": 10,
     "metadata": {},
     "output_type": "execute_result"
    }
   ],
   "source": [
    "z_crit_left = sts.norm(loc=0, scale=1).ppf(alpha / 2)\n",
    "z_crit_right = sts.norm(loc=0, scale=1).ppf(1 - alpha / 2)\n",
    "z_crit_left, z_crit_right"
   ]
  },
  {
   "cell_type": "code",
   "execution_count": 11,
   "id": "03b0d9a8",
   "metadata": {},
   "outputs": [
    {
     "data": {
      "text/plain": [
       "(0.00385558930272144, 0.0038555893027214516)"
      ]
     },
     "execution_count": 11,
     "metadata": {},
     "output_type": "execute_result"
    }
   ],
   "source": [
    "sts.norm(loc=0, scale=1).cdf(-z_obs), 1 - sts.norm(loc=0, scale=1).cdf(z_obs)"
   ]
  },
  {
   "cell_type": "code",
   "execution_count": 12,
   "id": "b674d433",
   "metadata": {},
   "outputs": [
    {
     "data": {
      "text/plain": [
       "0.007711178605442891"
      ]
     },
     "execution_count": 12,
     "metadata": {},
     "output_type": "execute_result"
    }
   ],
   "source": [
    "z_crit_left = sts.norm(loc=0, scale=1).ppf(alpha / 2)\n",
    "z_crit_right = sts.norm(loc=0, scale=1).ppf(1 - alpha / 2)\n",
    "\n",
    "# критических значения два (двусторонний критерий), запишу в переменную тот, за который выпало наблюдаемое значение статистики\n",
    "z_crit = z_crit_right\n",
    "pval = (\n",
    "    sts.norm(loc=0, scale=1).cdf(-z_obs) # слева\n",
    "    + (1 - sts.norm(loc=0, scale=1).cdf(z_obs)) # справа\n",
    ")\n",
    "\n",
    "pval"
   ]
  },
  {
   "cell_type": "markdown",
   "id": "a6fac804",
   "metadata": {},
   "source": [
    "Можно заметить, что у распределения числа репостов длинные хвосты. В данных есть выбросы, которые завышают среднее значение. Если выбросы сильные, то ЦПТ может ломаться. Из-за этого имеет смысл в данном случае использовать другой критерий. Например, критерий Манна-Уитни.\n",
    "\n",
    "Найдите наблюдаемое значение статистики Манна-Уитни. Сравните его с критическим. Рассчитайте p-value для ситуации с двусторонней альтернативой. Сделайте вывод о выдвинутой гипотезе. Отличается ли полученный вывод от вывода \n",
    "z-теста?"
   ]
  },
  {
   "cell_type": "code",
   "execution_count": 13,
   "id": "db3e8c3a",
   "metadata": {},
   "outputs": [],
   "source": [
    "u_obs, pval = sts.mannwhitneyu(x, y)"
   ]
  },
  {
   "cell_type": "code",
   "execution_count": 14,
   "id": "ea925f02",
   "metadata": {},
   "outputs": [
    {
     "data": {
      "text/plain": [
       "8026666.5"
      ]
     },
     "execution_count": 14,
     "metadata": {},
     "output_type": "execute_result"
    }
   ],
   "source": [
    "u_obs"
   ]
  },
  {
   "cell_type": "code",
   "execution_count": 15,
   "id": "2fb9afdb",
   "metadata": {},
   "outputs": [
    {
     "data": {
      "text/plain": [
       "0.005020337321443885"
      ]
     },
     "execution_count": 15,
     "metadata": {},
     "output_type": "execute_result"
    }
   ],
   "source": [
    "pval"
   ]
  },
  {
   "cell_type": "code",
   "execution_count": 16,
   "id": "30688b5e",
   "metadata": {},
   "outputs": [
    {
     "data": {
      "text/plain": [
       "8026666.5"
      ]
     },
     "execution_count": 16,
     "metadata": {},
     "output_type": "execute_result"
    }
   ],
   "source": [
    "u_obs"
   ]
  },
  {
   "cell_type": "code",
   "execution_count": 17,
   "id": "f5902cb7",
   "metadata": {},
   "outputs": [
    {
     "data": {
      "text/plain": [
       "0.005020337321443885"
      ]
     },
     "execution_count": 17,
     "metadata": {},
     "output_type": "execute_result"
    }
   ],
   "source": [
    "pval"
   ]
  },
  {
   "cell_type": "markdown",
   "id": "f5a5a010",
   "metadata": {},
   "source": [
    "Речь в задании идет о репостах, однако ранее мы работали с лайками, поскольку нужно сравнить два критерия, я проведу тест для лайков и репостов.\n",
    "\n",
    "C помощью непараметрического критерия мы более уверенно отвергли нулевую гипотезу о несмещенном распределении лайков. Фил в чате написал, что нужно сразу пользоваться p-value из пакетов, реализующих критерий, поэтому не расчитываю критические зничения статистики."
   ]
  },
  {
   "cell_type": "code",
   "execution_count": 18,
   "id": "7b0cc6f4",
   "metadata": {},
   "outputs": [],
   "source": [
    "x = df.loc[df['I'] == True, 'reposts'].dropna().values\n",
    "y = df.loc[df['I'] == False, 'reposts'].dropna().values"
   ]
  },
  {
   "cell_type": "code",
   "execution_count": 19,
   "id": "fe46725a",
   "metadata": {},
   "outputs": [
    {
     "data": {
      "text/plain": [
       "0.0018641282983665923"
      ]
     },
     "execution_count": 19,
     "metadata": {},
     "output_type": "execute_result"
    }
   ],
   "source": [
    "u_obs, pval = sts.mannwhitneyu(x, y)\n",
    "pval"
   ]
  },
  {
   "cell_type": "markdown",
   "id": "ef19bbab",
   "metadata": {},
   "source": [
    "Гипотезу о несмещенных распределениях репостов также уверенно отвергаем"
   ]
  },
  {
   "cell_type": "markdown",
   "id": "bad59c75",
   "metadata": {},
   "source": [
    "Проверьте гипотезу о мудрости с помощью бутстрапа. Нулевую гипотезу сформулируйте в терминах медиан."
   ]
  },
  {
   "cell_type": "markdown",
   "id": "5590aafe",
   "metadata": {},
   "source": [
    "$H_0: med(X) - med(Y) = 0\\newline\n",
    "H_1: med(X) - med(Y) \\neq 0$\n",
    "\n",
    "Буду строить тест, как Фил показывал на паре, делая медианы выборок одинаковыми"
   ]
  },
  {
   "cell_type": "code",
   "execution_count": 52,
   "id": "7ca2947c",
   "metadata": {},
   "outputs": [],
   "source": [
    "x = df.loc[df['I'] == True, 'likes'].dropna().values\n",
    "y = df.loc[df['I'] == False, 'likes'].dropna().values\n",
    "\n",
    "z = np.median(np.concatenate((x, y)))\n",
    "x_new = x - np.median(x) + z\n",
    "y_new = y - np.median(y) + z"
   ]
  },
  {
   "cell_type": "code",
   "execution_count": 22,
   "id": "8f26b82e",
   "metadata": {},
   "outputs": [],
   "source": [
    "def get_bootstrap_samples(sample: np.array, n: int) -> np.array:\n",
    "    return np.random.choice(sample, size=(n, sample.size), replace=True)"
   ]
  },
  {
   "cell_type": "code",
   "execution_count": 25,
   "id": "f0936ff4",
   "metadata": {},
   "outputs": [],
   "source": [
    "xs = get_bootstrap_samples(x_new, 10000)\n",
    "ys = get_bootstrap_samples(y_new, 10000)"
   ]
  },
  {
   "cell_type": "code",
   "execution_count": 49,
   "id": "0ebce866",
   "metadata": {},
   "outputs": [],
   "source": [
    "x_medians = np.median(xs, axis=1)\n",
    "y_medians = np.median(ys, axis=1)\n",
    "\n",
    "x_vars = np.var(xs, axis=1)\n",
    "y_vars = np.var(ys, axis=1)"
   ]
  },
  {
   "cell_type": "code",
   "execution_count": 57,
   "id": "c69c9d15",
   "metadata": {},
   "outputs": [],
   "source": [
    "t_stats = (x_medians - y_medians) / np.sqrt(x_vars.mean() / x.size + y_vars.mean() / y.size)"
   ]
  },
  {
   "cell_type": "code",
   "execution_count": 85,
   "id": "8841253e",
   "metadata": {},
   "outputs": [
    {
     "data": {
      "text/plain": [
       "(1.87316879263085, 2.5629478897235303)"
      ]
     },
     "execution_count": 85,
     "metadata": {},
     "output_type": "execute_result"
    }
   ],
   "source": [
    "t_crit = np.quantile(t_stats, 1 - 0.05)\n",
    "t_obs = (np.median(x) - np.median(y)) / np.sqrt(x.var() / x.size + y.var() / y.size)\n",
    "\n",
    "t_crit, t_obs"
   ]
  },
  {
   "cell_type": "code",
   "execution_count": 86,
   "id": "123f5a13",
   "metadata": {},
   "outputs": [
    {
     "data": {
      "text/plain": [
       "<AxesSubplot:xlabel='t_stat', ylabel='Count'>"
      ]
     },
     "execution_count": 86,
     "metadata": {},
     "output_type": "execute_result"
    },
    {
     "data": {
      "image/png": "[encoded data removed]",
      "text/plain": [
       "<Figure size 648x432 with 1 Axes>"
      ]
     },
     "metadata": {
      "needs_background": "light"
     },
     "output_type": "display_data"
    }
   ],
   "source": [
    "_, ax = plt.subplots(1, 1, figsize=(9, 6))\n",
    "\n",
    "plt.vlines(t_crit, ymin=0, ymax=600, colors='black')\n",
    "plt.annotate('t_crit', xy=(t_crit + 0.05, 500))\n",
    "\n",
    "plt.vlines(t_obs, ymin=0, ymax=600, colors='red')\n",
    "plt.annotate('t_obs', xy=(t_obs + 0.05, 550))\n",
    "\n",
    "plt.xlabel('t_stat')\n",
    "\n",
    "sns.histplot(t_stats)"
   ]
  },
  {
   "cell_type": "markdown",
   "id": "9b6c644b",
   "metadata": {},
   "source": [
    "Опять отвергаем гипотезу на заданном уровне значимости"
   ]
  },
  {
   "cell_type": "markdown",
   "id": "bb000b3e",
   "metadata": {},
   "source": [
    "## [10 баллов] Задание 4 (мыши и зеркало)\n",
    "\n",
    "$16$ лабораторных мышей были помещены в двухкомнатные клетки, в одной из комнат висело зеркало. С целью установить, есть ли у мышей какие-то предпочтения насчет зеркал, измерялась доля времени, которое каждая мышь проводила в каждой из своих двух клеток.\n",
    "\n",
    "![](https://ars.els-cdn.com/content/image/1-s2.0-S0168159104000061-gr1.gif)\n",
    "\n",
    "В файле `mouses_mirror.txt` лежит информация о том, какую долю времени мышка проводила в клетке с зеркалом. "
   ]
  },
  {
   "cell_type": "code",
   "execution_count": 87,
   "id": "213fe34c",
   "metadata": {},
   "outputs": [
    {
     "data": {
      "image/png": "[encoded data removed]",
      "text/plain": [
       "<Figure size 432x288 with 1 Axes>"
      ]
     },
     "metadata": {
      "needs_background": "light"
     },
     "output_type": "display_data"
    }
   ],
   "source": [
    "x = pd.read_csv('data/mouses_mirror.txt', header = None)[0].values\n",
    "plt.hist(x, density=True);"
   ]
  },
  {
   "cell_type": "markdown",
   "id": "8921addf",
   "metadata": {},
   "source": [
    "Проверьте гипотезу о том, что мышкам безразлично в какой комнате проводить время с помощью критерия знаков. Сформулируйте нулевую гипотезу, перечислите основные особенности этого критерия. Запишите в переменную `pvalue_1` получившееся в результате этого $p$-значение. "
   ]
  },
  {
   "cell_type": "markdown",
   "id": "50bb3587",
   "metadata": {},
   "source": [
    "$H_0: X = 0.5\\newline\n",
    "H_1: X \\neq0.5$\n",
    "\n",
    "Мы отказываемся от информации о величине отклонения наблюдений от 0.5, делаем новую выборку: $S = [X > 0.5]$. Она имеет биномиальное распределение, мы знаем ее плотность распределения, и можем оценить, насколько было бы вероятно получить наше или более экстримальное наблюдение из распределения $B(p=0.5, n=len(S))$"
   ]
  },
  {
   "cell_type": "code",
   "execution_count": 108,
   "id": "245675e3",
   "metadata": {},
   "outputs": [],
   "source": [
    "alpha = 0.05"
   ]
  },
  {
   "cell_type": "code",
   "execution_count": 95,
   "id": "06a05259",
   "metadata": {},
   "outputs": [],
   "source": [
    "binom = sts.binom(p=0.5, n=len(x))\n",
    "xs = range(len(x) + 1)\n",
    "probs = [binom.pmf(k) for k in xs]"
   ]
  },
  {
   "cell_type": "code",
   "execution_count": 112,
   "id": "b15365d0",
   "metadata": {},
   "outputs": [
    {
     "data": {
      "text/plain": [
       "(4.0, 12.0)"
      ]
     },
     "execution_count": 112,
     "metadata": {},
     "output_type": "execute_result"
    }
   ],
   "source": [
    "stat_crit_left = binom.ppf(alpha / 2)\n",
    "stat_crit_right = binom.ppf(1 - alpha / 2)\n",
    "stat_crit_left, stat_crit_right"
   ]
  },
  {
   "cell_type": "code",
   "execution_count": 138,
   "id": "968261c1",
   "metadata": {},
   "outputs": [
    {
     "data": {
      "text/plain": [
       "0.021270751953125104"
      ]
     },
     "execution_count": 138,
     "metadata": {},
     "output_type": "execute_result"
    }
   ],
   "source": [
    "signs = [int(time > 0.5) for time in x]\n",
    "\n",
    "t_obs = sum(signs)\n",
    "p_obs = binom.pmf(sum(signs))\n",
    "\n",
    "pvalue_1 = sum([prob for prob in probs if prob <= p_obs])\n",
    "pvalue_1"
   ]
  },
  {
   "cell_type": "code",
   "execution_count": 137,
   "id": "0115562c",
   "metadata": {},
   "outputs": [
    {
     "data": {
      "text/plain": [
       "<BarContainer object of 17 artists>"
      ]
     },
     "execution_count": 137,
     "metadata": {},
     "output_type": "execute_result"
    },
    {
     "data": {
      "image/png": "[encoded data removed]",
      "text/plain": [
       "<Figure size 432x288 with 1 Axes>"
      ]
     },
     "metadata": {
      "needs_background": "light"
     },
     "output_type": "display_data"
    }
   ],
   "source": [
    "plt.vlines(stat_crit_left, 0, 0.2, color='black')\n",
    "plt.vlines(stat_crit_right, 0, 0.2, color='black')\n",
    "\n",
    "plt.vlines(t_obs, 0, 0.2, color='red')\n",
    "\n",
    "plt.bar(xs, probs, width=0.95)"
   ]
  },
  {
   "cell_type": "code",
   "execution_count": 146,
   "id": "3b8884c9",
   "metadata": {},
   "outputs": [
    {
     "data": {
      "text/plain": [
       "(-5.0, 0.021270751953125)"
      ]
     },
     "execution_count": 146,
     "metadata": {},
     "output_type": "execute_result"
    }
   ],
   "source": [
    "from statsmodels.stats.descriptivestats import sign_test\n",
    "\n",
    "test = sign_test(x, mu0=0.5)\n",
    "test"
   ]
  },
  {
   "cell_type": "markdown",
   "id": "f1fbe83d",
   "metadata": {},
   "source": [
    "Сошлось с тем, что построил руками:)"
   ]
  },
  {
   "cell_type": "markdown",
   "id": "86cbfad7",
   "metadata": {},
   "source": [
    "Проверьте гипотезу о том, что мышкам безразлично в какой комнате проводить время с помощью теста Вилкоксона. Сформулируйте нулевую гипотезу, перечислите основные особенности этого критерия.  Запишите в переменную `pvalue_2` получившееся в результате этого $p$-значение. "
   ]
  },
  {
   "cell_type": "code",
   "execution_count": 142,
   "id": "1a320153",
   "metadata": {},
   "outputs": [
    {
     "data": {
      "text/plain": [
       "0.08793560714236243"
      ]
     },
     "execution_count": 142,
     "metadata": {},
     "output_type": "execute_result"
    }
   ],
   "source": [
    "_, pvalue_2 = sts.wilcoxon(x - 0.5)\n",
    "pvalue_2"
   ]
  },
  {
   "cell_type": "markdown",
   "id": "0dca85d0",
   "metadata": {},
   "source": [
    "Проверьте гипотезу о том, что мышкам безразлично в какой комнате проводить время с помощью асимптотического $z$-теста. Сформулируйте нулевую гипотезу, перечислите основные особенности этого критерия.  Запишите в переменную `pvalue_3` получившееся в результате этого $p$-значение. "
   ]
  },
  {
   "cell_type": "code",
   "execution_count": 154,
   "id": "47c04177",
   "metadata": {},
   "outputs": [
    {
     "data": {
      "text/plain": [
       "0.13460721078205806"
      ]
     },
     "execution_count": 154,
     "metadata": {},
     "output_type": "execute_result"
    }
   ],
   "source": [
    "from statsmodels.stats.weightstats import ztest,zconfint\n",
    "\n",
    "z_stat, pvalue_3 = ztest(x, value=0.5)\n",
    "pvalue_3"
   ]
  },
  {
   "cell_type": "code",
   "execution_count": 150,
   "id": "7af3a643",
   "metadata": {},
   "outputs": [],
   "source": [
    "# проверка того, что задание решено верно\n",
    "assert pvalue_1 < 0.05\n",
    "assert pvalue_2 > 0.05\n",
    "assert pvalue_3 > 0.05"
   ]
  },
  {
   "cell_type": "markdown",
   "id": "a0743c46",
   "metadata": {},
   "source": [
    "Объясните, почему `pvalue` от теста к тесту ведёт себя именно так. Подробнее про опыт с мышками читайте [в оригинальном исследовании.](https://www.sciencedirect.com/science/article/abs/pii/S0168159104000061)\n",
    "\n",
    "__Ответ:__ В тестах знаков и Вилкоксона мы избавились от величин отклонения времени от 0.5, а для критерия Вилкоксона не факт, что предпосылка о симметрии распределения выполнена, видимо поэтому получились разные результаты. Но вряд ли тут можно пользоваться ЦПТ и асимптотикой, выборка всего 16 наблюдений. Поэтому мне больше нравится тут тест знаков, и это кажется логичным, поскольку время совсем не равномерно оказалось распределено относительно 0.5, видимо мышкам не особо нравится тусить в помещении с зеркалом"
   ]
  },
  {
   "cell_type": "markdown",
   "id": "327b0617",
   "metadata": {},
   "source": [
    "## [10 баллов] Задание 5 (ломаем тест Манна-Уитни)\n",
    "\n",
    "Придумайте пример, на котором тест Манна-Уитни не будет работать. \n",
    "\n",
    "__Hint:__ Главная предпосылка теста заключается в том, что распределение не меняется, но у него происходит сдвиг. Воспользуйтесь этим. \n",
    "\n",
    "\\begin{equation*}\n",
    "    \\begin{aligned}\n",
    "    & H_0: F_X(x) = F_Y(y) \\\\\n",
    "    & H_A: F_X(x) = F_Y(y + m), m \\ne 0\n",
    "    \\end{aligned}\n",
    "\\end{equation*}\n",
    "\n",
    "\n",
    "<center>\n",
    "<img src='https://raw.githubusercontent.com/hse-econ-data-science/andan_2023/main/sem12_more_ab/mw.png' align='center' width=\"300x\">\n",
    "</center>\n"
   ]
  },
  {
   "cell_type": "code",
   "execution_count": 209,
   "id": "407b4e52",
   "metadata": {},
   "outputs": [],
   "source": [
    "binom_left = sts.binom(p=0.3, n=50)\n",
    "binom_right = sts.binom(p=0.7, n=50)\n",
    "\n",
    "binom_centered = sts.binom(p=0.5, n=50)"
   ]
  },
  {
   "cell_type": "code",
   "execution_count": 214,
   "id": "bc395821",
   "metadata": {},
   "outputs": [],
   "source": [
    "xs = range(51)\n",
    "\n",
    "probs_centered = binom_centered.pmf(xs)\n",
    "\n",
    "probs_bimodal = 0.5 * binom_left.pmf(xs) + 0.5 * binom_right.pmf(xs)"
   ]
  },
  {
   "cell_type": "code",
   "execution_count": 215,
   "id": "d6443f49",
   "metadata": {
    "scrolled": false
   },
   "outputs": [
    {
     "data": {
      "text/plain": [
       "<BarContainer object of 51 artists>"
      ]
     },
     "execution_count": 215,
     "metadata": {},
     "output_type": "execute_result"
    },
    {
     "data": {
      "image/png": "[encoded data removed]",
      "text/plain": [
       "<Figure size 648x432 with 1 Axes>"
      ]
     },
     "metadata": {
      "needs_background": "light"
     },
     "output_type": "display_data"
    }
   ],
   "source": [
    "_, ax = plt.subplots(1, 1, figsize=(9, 6))\n",
    "plt.bar(xs, probs_centered, width=1)\n",
    "plt.bar(xs, probs_bimodal, width=1)"
   ]
  },
  {
   "cell_type": "markdown",
   "id": "93ee8585",
   "metadata": {},
   "source": [
    "Буду сэмплировать из таких распределений, видно, что они не смещены относительно друг друга, одно из них поляризованное"
   ]
  },
  {
   "cell_type": "code",
   "execution_count": 216,
   "id": "b4f20842",
   "metadata": {},
   "outputs": [],
   "source": [
    "x = binom_centered.rvs(size=50)"
   ]
  },
  {
   "cell_type": "code",
   "execution_count": 223,
   "id": "293a3685",
   "metadata": {},
   "outputs": [],
   "source": [
    "y = [num for num in binom_left.rvs(size=50) if np.random.rand() > 0.5]\n",
    "y += [num for num in binom_right.rvs(size=50 - len(y))]"
   ]
  },
  {
   "cell_type": "code",
   "execution_count": 226,
   "id": "681de20a",
   "metadata": {},
   "outputs": [
    {
     "data": {
      "text/plain": [
       "(array([ 4., 10.,  7.,  2.,  1.,  1.,  1.,  6., 13.,  5.]),\n",
       " array([10., 13., 16., 19., 22., 25., 28., 31., 34., 37., 40.]),\n",
       " <BarContainer object of 10 artists>)"
      ]
     },
     "execution_count": 226,
     "metadata": {},
     "output_type": "execute_result"
    },
    {
     "data": {
      "image/png": "[encoded data removed]",
      "text/plain": [
       "<Figure size 504x288 with 1 Axes>"
      ]
     },
     "metadata": {
      "needs_background": "light"
     },
     "output_type": "display_data"
    }
   ],
   "source": [
    "_, ax = plt.subplots(1, 1, figsize=(7, 4))\n",
    "plt.hist(x)\n",
    "plt.hist(y)"
   ]
  },
  {
   "cell_type": "code",
   "execution_count": 227,
   "id": "4d1068f4",
   "metadata": {},
   "outputs": [],
   "source": [
    "u_obs, pval = sts.mannwhitneyu(x, y)"
   ]
  },
  {
   "cell_type": "code",
   "execution_count": 228,
   "id": "c8a6fc48",
   "metadata": {},
   "outputs": [
    {
     "data": {
      "text/plain": [
       "0.4341918366750995"
      ]
     },
     "execution_count": 228,
     "metadata": {},
     "output_type": "execute_result"
    }
   ],
   "source": [
    "pval"
   ]
  },
  {
   "cell_type": "markdown",
   "id": "62616277",
   "metadata": {},
   "source": [
    "Не можем отвергнуть нулевую гипотезу теста Манна-Уитни, но понятно, что распределения не похожи друг на друга"
   ]
  },
  {
   "cell_type": "markdown",
   "id": "247a82b2",
   "metadata": {},
   "source": [
    "## [10 баллов] Задание 6 (проблема подглядывания)\n",
    "\n",
    "Предположим, что мы отошли от классической схемы проведения АБ тестов и решили подводить итоги на уровне значимости 5% каждый день. Мы держим тест две недели. Если хотябы в один из дней p-value оказывается ниже $0.05,$ мы останавливаем тест и делаем выводы, что гипотеза не отвергается.\n",
    "\n",
    "Так делать нельзя. Это называется проблемой подглядывания. В случае такой процедуры уровень значимости выходит из-под контроля. Давайте убедимся в этом с помощью симуляций. \n",
    "\n",
    "- Запланируйте АБ-тест для долей таким образом, чтобы ошибка 1 и 2 рода были равны 5%. В качестве MDE возьмите любое значение.\n",
    "- Сгенерируйте нужное количество наблюдений. Разбейте его на 14 частей (тест идет 2 недели)\n",
    "- Проверяйте гипотезу каждый день и останавливайтесь, если она не отвергается\n",
    "- Какими оказались ошибки 1 и 2 рода в реальности?\n",
    "\n",
    "Симуляции надо провести отдельно для верности нулевой гипотезы и отдельно для верности альтернативной гипотезы."
   ]
  },
  {
   "cell_type": "code",
   "execution_count": 577,
   "id": "30a72995",
   "metadata": {},
   "outputs": [],
   "source": [
    "def find_n(p0, pa, alpha=0.05, beta=0.05):\n",
    "    za = sts.norm().ppf(1 - alpha)\n",
    "    zb = sts.norm().ppf(1 - beta)\n",
    "    sn = (np.sqrt(p0*(1 - p0))* za + np.sqrt(pa*(1 - pa))* zb)/(pa - p0)\n",
    "    return sn**2"
   ]
  },
  {
   "cell_type": "code",
   "execution_count": 578,
   "id": "7a4c2b86",
   "metadata": {},
   "outputs": [
    {
     "data": {
      "text/plain": [
       "266"
      ]
     },
     "execution_count": 578,
     "metadata": {},
     "output_type": "execute_result"
    }
   ],
   "source": [
    "n = int(find_n(0.5, 0.6, 0.05, 0.05)) + 1\n",
    "n"
   ]
  },
  {
   "cell_type": "code",
   "execution_count": 430,
   "id": "f408d2af",
   "metadata": {},
   "outputs": [],
   "source": [
    "obs_per_day = n // 14"
   ]
  },
  {
   "cell_type": "code",
   "execution_count": 548,
   "id": "d7847961",
   "metadata": {},
   "outputs": [],
   "source": [
    "def run_experiment(p=0.5, stop_early=False):\n",
    "    x = sts.bernoulli(p=p).rvs(n)\n",
    "    daily_x = []\n",
    "    start = 0\n",
    "    end = obs_per_day\n",
    "    for _ in range(14):\n",
    "        daily_x.append(x[start: end])\n",
    "        start = end\n",
    "        end += obs_per_day\n",
    "\n",
    "    x_cum = np.array([])        \n",
    "    for obs in daily_x:\n",
    "        x_cum = np.concatenate((x_cum, obs)) if x_cum.size else obs\n",
    "        _, pval = ztest(x_cum, value=0.5)\n",
    "        if stop_early:\n",
    "            if pval < 0.05:\n",
    "                return pval\n",
    "    return pval"
   ]
  },
  {
   "cell_type": "code",
   "execution_count": 571,
   "id": "54bbe47f",
   "metadata": {},
   "outputs": [],
   "source": [
    "def run_n_experiments(stop_early=False, n=100):\n",
    "    np.random.seed(42)\n",
    "    results_x = []\n",
    "    results_y = []\n",
    "    for _ in range(n):\n",
    "        pval = run_experiment(p=0.5, stop_early=stop_early)\n",
    "        results_x.append(pval)\n",
    "        \n",
    "    for _ in range(n):\n",
    "        pval = run_experiment(p=0.6, stop_early=stop_early)\n",
    "        results_y.append(pval)\n",
    "\n",
    "        \n",
    "    results_x = np.array(results_x)\n",
    "    results_y = np.array(results_y)\n",
    "    \n",
    "    alpha = results_x[results_x < 0.05].size / n\n",
    "    beta = results_y[results_y >= 0.05].size / n\n",
    "    return alpha, beta"
   ]
  },
  {
   "cell_type": "code",
   "execution_count": 575,
   "id": "94a7e644",
   "metadata": {},
   "outputs": [
    {
     "name": "stdout",
     "output_type": "stream",
     "text": [
      "type 1 error rate = 0.065\n",
      "type 2 error rate = 0.083\n"
     ]
    }
   ],
   "source": [
    "res_not_stop = run_n_experiments(n=1000)\n",
    "print(f'type 1 error rate = {res_not_stop[0]}\\ntype 2 error rate = {res_not_stop[1]}')"
   ]
  },
  {
   "cell_type": "code",
   "execution_count": 576,
   "id": "4a979bc2",
   "metadata": {},
   "outputs": [
    {
     "name": "stdout",
     "output_type": "stream",
     "text": [
      "type 1 error rate = 0.238\n",
      "type 2 error rate = 0.048\n"
     ]
    }
   ],
   "source": [
    "res_stop = run_n_experiments(n=1000, stop_early=True)\n",
    "print(f'type 1 error rate = {res_stop[0]}\\ntype 2 error rate = {res_stop[1]}')"
   ]
  },
  {
   "cell_type": "markdown",
   "id": "f6bcda7f",
   "metadata": {},
   "source": [
    "С ошибкой первого рода все отлично\n",
    "\n",
    "С ошибкой второго рода что-то пошло не так, она больше 5%, когда мы не подглядываем, и около 5%, когда подглядываем, наверное проблема в необходимом числе наблюдений"
   ]
  },
  {
   "cell_type": "markdown",
   "id": "fa893374",
   "metadata": {},
   "source": [
    "## [20 баллов] Задание 7 (онлифанс) \n",
    "\n",
    "Эта задача на то, что ты выигрываешь или проигрываешь, если отказываешься от АБ-тестов и просто принимаешь решение об изенениях по среднему. Задание довольно творческое, так как способ симуляции вам предстоит придумать самостоятельно.\n",
    "\n",
    "У Аделины и Беллы есть аккаунты на онлифанс с конверсией $p=0.2\\%$. Они меняют вёрстки и смотрят, как дела с деньгами. Белла нанаяла аналитика и принимает решения об изменениях по $p-value < 0.05,$ а Аделина просто смотрит на среднее и катит по нему. Например, если на старом дизайне из тысячи посетителей только $299$ оставило копеечку, а на новом — $300$, берём новый. Если наоборот — оставляем старый.\n",
    "\n",
    "Пусть у каждой было $100$ правочек. Правочки одинаковые для обеих девушек. На них работает один и тот же фронтендер. Будем считать, что правочки независимы друг от друга. То есть, в какой бы момент мы не выкатили правочку, у нас всегда от неё будет одинаковое воздействие на конверсию. У каждой девушки было $100$ правочек. Кто после сотни правочек вырвется вперёд по конверсии? "
   ]
  },
  {
   "cell_type": "markdown",
   "id": "5b772af6",
   "metadata": {},
   "source": [
    "Буду делать так: у меня есть исходные конверсии девушек, создам массив длины 100 из случайных новых конверсий после выкатки одних и тех же изменений. Далее буду бежать по этим конверсиям и для обеих девушек проводить свой тест: сэмплировать из распределения бернулли по 1000 наблюдений для старого и нового дизайна и принимать решение о выкатке дизайна по правилу каждой девушки. В конце посмотрю, чья же конверсия оказалась лучше"
   ]
  },
  {
   "cell_type": "code",
   "execution_count": 456,
   "id": "b97e7b6f",
   "metadata": {},
   "outputs": [],
   "source": [
    "n_users_per_group = 1000\n",
    "adel_p = 0.002\n",
    "bella_p = 0.002\n",
    "\n",
    "design_ps = np.random.uniform(low=0.0001, high=0.05, size=100)"
   ]
  },
  {
   "cell_type": "code",
   "execution_count": 492,
   "id": "c2587a02",
   "metadata": {},
   "outputs": [],
   "source": [
    "for new_design_p in design_ps:\n",
    "    adel_current_pays = sts.binom(p=adel_p, n=1000).rvs()\n",
    "    bella_current_pays = sts.bernoulli(p=bella_p).rvs(size=1000)\n",
    "    \n",
    "    adel_new_pays = sts.binom(p=new_design_p, n=1000).rvs()\n",
    "    bella_new_pays = sts.bernoulli(p=new_design_p).rvs(size=1000)\n",
    "    \n",
    "    if adel_new_pays > adel_current_pays:\n",
    "        adel_p = new_design_p\n",
    "        \n",
    "    _, pval = ztest(bella_new_pays, bella_current_pays, alternative='larger')\n",
    "    if pval < 0.05:\n",
    "        bella_p = new_design_p"
   ]
  },
  {
   "cell_type": "code",
   "execution_count": 499,
   "id": "59155ff5",
   "metadata": {},
   "outputs": [
    {
     "name": "stdout",
     "output_type": "stream",
     "text": [
      "Bella conversion = 0.047826307372881474\n",
      "Adel conversion = 0.044417140836397695\n",
      "Bella wins using super clever statistical approach C:\n"
     ]
    }
   ],
   "source": [
    "print(\n",
    "    (f'Bella conversion = {bella_p}\\nAdel conversion = {adel_p}\\n'\n",
    "     'Bella wins using super clever statistical approach C:')\n",
    ")"
   ]
  },
  {
   "cell_type": "markdown",
   "id": "30fc9ad6",
   "metadata": {},
   "source": [
    "Итог: разница хоть и небольшая, но все равно Белле приятно. Запускал симуляцию несколько раз, она всегда побеждает"
   ]
  }
 ],
 "metadata": {
  "kernelspec": {
   "display_name": "Python 3",
   "language": "python",
   "name": "python3"
  },
  "language_info": {
   "codemirror_mode": {
    "name": "ipython",
    "version": 3
   },
   "file_extension": ".py",
   "mimetype": "text/x-python",
   "name": "python",
   "nbconvert_exporter": "python",
   "pygments_lexer": "ipython3",
   "version": "3.8.5"
  }
 },
 "nbformat": 4,
 "nbformat_minor": 5
}
